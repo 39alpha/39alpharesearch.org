{
 "cells": [
  {
   "cell_type": "markdown",
   "metadata": {},
   "source": [
    "---\n",
    "title: The Costs of Publication\n",
    "draft: true\n",
    "---"
   ]
  },
  {
   "cell_type": "markdown",
   "metadata": {},
   "source": [
    "Peer reviewed publications are the currency of the academic world. They are used to evaluate both the creativity, and technical skills of scientists. When a funding agency, like the National Science Foundation, or the Europe Research Council are trying to decide how to allocate funds to researchers, one of the top criteria is that the scientists seeking the funds have demonstrated their expertise by publishing. Once funds are allocated and the agencies want to evaluate the success of funded projects, they use the number and \"quality\" of peer reviewed publications to judge the project. These publications represent thousands of hours of work, for some people their entire PhD can revolve around a single publication, and these days they are the measure of every scientists’ work. But if papers are the currency of the academic work, how much do they cost?"
   ]
  },
  {
   "cell_type": "markdown",
   "metadata": {},
   "source": [
    "The cost associated with a publication can basically be broken into two pieces, what did it cost to develop the underlying research, and how much did the peer review process cost. The first aspect includes the total cost of labor, materials, equipment and time that goes into each project. Most researchers spend their days focused on this first part, because it's the place where the real research happens, but we'll focus on the second part, the cost of the peer review process. To get a handle on this cost, lets take a step back and talk about the process of peer review as it is today."
   ]
  },
  {
   "cell_type": "markdown",
   "metadata": {},
   "source": [
    "When scientists find results that are new, exciting, contradictory or otherwise interesting, they compose a manuscript, describing the experiment, methods and results. This manuscript is then submitted to an academic publisher where an editor sends it out to other specialists in that field. These peer specialists review the article based on its clarity, scientific merit, and importantly, the perceived relevance to the larger field. If the article is deemed clear, scientifically sound, and interesting, it is accepted and published in the journal, this almost never happens on the first try. Often articles will be revised several times before being accepted at a given journal. Once a manuscript is accepted, it becomes the intellectual property of the publisher, and other scientists must pay the publisher for access to those results. At no point in this process does the publisher pay any of the scientists involved, not the scientists who originally produced the results, nor the reviewers who spent hours reviewing and often improving the manuscript. "
   ]
  },
  {
   "cell_type": "markdown",
   "metadata": {},
   "source": [
    "![title](peerreview.jpeg)"
   ]
  },
  {
   "cell_type": "markdown",
   "metadata": {},
   "source": [
    "At this point you might be thinking it's a good idea to start your own scientific journal, after all, you can sell papers to scientists who produce them for you. All you need to do is place yourself as a middle-man between the reviewers the authors, we'll call you an editor in chief. But what other costs do you have to worry about? Well you’ll need to host the published manuscripts, so you'll need some servers and a good internet connection. And you'll probably need to hire a copy editor or two to make sure you catch all the typos and tidy up the graphs. In the end, can you really make money doing this? How much are academics willing to pay for this \"service\" you’re offering? It turns out the answer is, **a lot**."
   ]
  },
  {
   "cell_type": "markdown",
   "metadata": {},
   "source": [
    "Academic Publishing is big business, a single firm, Reed-Elsiver made more than $2$ billion in profit in 2012-2013 financial year, operating a with a profit margin higher than $30\\%$, which is comparable to the profit margins of the Industrial & Commercial Bank of China (the most profitable bank in the world). Other publishing houses such a Springer, and Taylor-Wiley has similar profit margins in the same time frame. In 2011 the academic publishing industry saw \\\\(\\$9.4\\\\) billion in revenue, from publishing an estimated $1.7$ million journal articles. In case you're wondering that turns out to be a little more than \\\\(\\$5,000\\\\) per article published. So where is all this money coming from? To understand that we need to go back and look closer at the basic business model of academic publishing. "
   ]
  },
  {
   "cell_type": "markdown",
   "metadata": {},
   "source": [
    "![title](profitmargins.PNG)"
   ]
  },
  {
   "cell_type": "markdown",
   "metadata": {},
   "source": [
    "Academic publishers are essentially media companies. They're selling content to consumers. The content their selling is generated by their own customers, and the quality control is done largely by the customers too. But how much are researchers paying for this content? It turns out that's a hard question to answer. Publishing houses deal directly university libraries, not with individual researchers, so most academics have no first-hand experience with the cost of journal subscriptions. On top of that, publishing houses typically include confidentially clauses part of their licensing contract, preventing the universities from publicly listing exactly how much they spend with a given publisher. Luckily some authors have utilized the Freedom of Information act to collect information on how much university libraries in the US were paying for their subscription services. The data shows there's a lot of variability between different university types, tracking with the goals of the universities. The most expensive publishing house was Elsevier. A typical \"R1\" or research first university paid Elsevier \\\\(\\$1.3\\\\) million for their subscription services, while a typical teaching university bought access to fewer titles and paid \\\\(\\$800,000\\\\) dollars to Elsevier. Other journals collected less — Springer collected \\\\(\\$300,000\\\\) and \\\\(\\$50,000\\\\), respectively, from the same institutions and other publishers charging similar rates. These rates are for a single institution. There are $131$ R1 universities in the US and over $5000$ universities in total. These numbers don't include some of the biggest publishing houses either, such as Nature Publishing Group and the American Association for the Advancement of Science, which publish the all-important Nature and Science titles."
   ]
  },
  {
   "cell_type": "markdown",
   "metadata": {},
   "source": [
    "It's important to remember that universities and institutions are essentially the only customers for many of these publishing houses. Few research firms need the diversities of number of titles required by university libraries. University budgets are funded from basically three sources, tuition and fees from students, state endowments (which come from tax-payers), and from research grants (which are also overwhelmingly funded by taxpayers). At a typical state university, like Arizona State University for example, tuition and fees account for about $50\\%$ of the revenue stream, state appropriates account for $10\\%$ and research grants account for about $15\\%$ of the remaining revenue. About $25\\%$ of the operating budget is coming directly from the tax base. So academic publishing houses are profiting on the scale of billions of dollars per year, by collecting money from students and tax payers, while operating as middle men. "
   ]
  },
  {
   "cell_type": "markdown",
   "metadata": {},
   "source": [
    "We can estimate how much publishers are charging universities for titles, and we know how much they’re profiting. But we still haven't answered our question, how much does a publication cost? Well there's one way to get the minimum cost of a digital publication. Since 1991, [ArXiv.org](https://arxiv.org) (pronounced \"archive\", with _X_ the representing the Greek $\\chi$), has hosted digital preprints. Preprints are academic manuscripts that may or may not have been through peer review, usually they're posted to a preprint resposity (like arxiv) before they're sent out for review (e.g. prior to printing). Unlike academic publishers, arxiv.org operates as a not-for-profit, and is sponsored by Cornell University, the Simons Foundation, and $220+$ other institutional members. While the arXiv does not subject articles to the same degree of scrutiny, to does provide basic moderation of the preprints with articles being excluded for being off topic, non-scientific, and other reasons. Many of the moderators (like all the peer reviewers in traditional publishers) are volunteers. In 2017, arxiv had added $120,000$ new submissions to reach a total of more than $1.3$ million preprints hosted with a 2017 operating budget of about \\\\(\\$750,000\\\\). That's less than half of a what a single publisher is charging a single university for a smaller selection of titles. The arxiv is handling manuscripts at a cost of about \\\\(\\$6.25\\\\) per manuscript. "
   ]
  },
  {
   "cell_type": "markdown",
   "metadata": {},
   "source": [
    "If you're keeping track, that means that for-profit publishers are result in a cost per publication of $1000\\times$ more than the arxiv. Admittedly these publishers are adding some value with formatting, web hosting, and editorial support. But could they possible be providing $1000$ times more value than the arxiv? "
   ]
  }
 ],
 "metadata": {
  "kernelspec": {
   "display_name": "Julia 1.7.3",
   "language": "julia",
   "name": "julia-1.7"
  },
  "language_info": {
   "file_extension": ".jl",
   "mimetype": "application/julia",
   "name": "julia",
   "version": "1.7.3"
  }
 },
 "nbformat": 4,
 "nbformat_minor": 4
}
